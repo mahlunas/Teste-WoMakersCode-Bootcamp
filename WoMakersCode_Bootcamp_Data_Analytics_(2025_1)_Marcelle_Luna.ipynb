{
  "nbformat": 4,
  "nbformat_minor": 0,
  "metadata": {
    "colab": {
      "provenance": [],
      "include_colab_link": true
    },
    "kernelspec": {
      "name": "python3",
      "display_name": "Python 3"
    },
    "language_info": {
      "name": "python"
    }
  },
  "cells": [
    {
      "cell_type": "markdown",
      "metadata": {
        "id": "view-in-github",
        "colab_type": "text"
      },
      "source": [
        "<a href=\"https://colab.research.google.com/github/mahlunas/Teste-WoMakersCode-Bootcamp/blob/main/WoMakersCode_Bootcamp_Data_Analytics_(2025_1)_Marcelle_Luna.ipynb\" target=\"_parent\"><img src=\"https://colab.research.google.com/assets/colab-badge.svg\" alt=\"Open In Colab\"/></a>"
      ]
    },
    {
      "cell_type": "markdown",
      "source": [
        "DESAFIO 1\n",
        "\n",
        "Crie um programa que solicita ao usuário que insira três notas (valores de 0 a 10) e, em seguida, calcule e exiba a média dessas notas.\n",
        "\n",
        "Além disso, informe ao usuário se ele foi aprovado ou reprovado com base na média das notas, considerando a média mínima de aprovação como 6."
      ],
      "metadata": {
        "id": "fZu819fMQNKI"
      }
    },
    {
      "cell_type": "code",
      "source": [
        "#Execute seu código aqui\n",
        "media = 0\n",
        "for i in range(3):\n",
        "  nota = float(input(\"Digite a nota: \"))\n",
        "  media += nota\n",
        "\n",
        "media = media / 3\n",
        "\n",
        "if media >= 6:\n",
        "  print(\"Aluno Aprovado\")\n",
        "else:\n",
        "  print(\"Aluno Reprovado\")"
      ],
      "metadata": {
        "id": "tjM2VWBwQSJE",
        "colab": {
          "base_uri": "https://localhost:8080/"
        },
        "outputId": "4951695e-92e3-43b2-b2b2-e78267704ad6"
      },
      "execution_count": null,
      "outputs": [
        {
          "output_type": "stream",
          "name": "stdout",
          "text": [
            "Digite a nota: 6\n",
            "Digite a nota: 3.8\n",
            "Digite a nota: 7\n",
            "Aluno Reprovado\n"
          ]
        }
      ]
    },
    {
      "cell_type": "markdown",
      "source": [
        "DESAFIO 2\n",
        "\n",
        "Escreva um programa que receba uma string e conte quantas vogais (a, e, i, o, u) ela contém."
      ],
      "metadata": {
        "id": "_m8mBod2g9Iv"
      }
    },
    {
      "cell_type": "code",
      "source": [
        "#Execute seu código aqui\n",
        "palavra = input(\"Digite a palavra desejada: \")\n",
        "vogais = [\"a\", \"e\", \"i\", \"o\", \"u\"]\n",
        "contador = 0\n",
        "\n",
        "for letra in palavra:\n",
        "  if letra in vogais:\n",
        "    contador += 1\n",
        "\n",
        "print(f\"A palavra {palavra} possui {contador} vogais\")"
      ],
      "metadata": {
        "id": "G3MkSdjIfMay",
        "colab": {
          "base_uri": "https://localhost:8080/"
        },
        "outputId": "ccccfbb0-8bb5-4e31-8f45-6e4461ca22c8"
      },
      "execution_count": null,
      "outputs": [
        {
          "output_type": "stream",
          "name": "stdout",
          "text": [
            "Digite a palavra desejada: alfabeto\n",
            "A palavra alfabeto possui 4 vogais\n"
          ]
        }
      ]
    },
    {
      "cell_type": "markdown",
      "source": [
        "DESAFIO 3\n",
        "\n",
        "Escreva um programa em que o computador escolhe um número aleatório entre 1 e 100 e o usuário tenta adivinhar. O programa deve informar se o palpite é muito alto, muito baixo ou correto."
      ],
      "metadata": {
        "id": "azEJl_Q6cFFz"
      }
    },
    {
      "cell_type": "code",
      "source": [
        "#Execute seu código aqui\n",
        "import random\n",
        "num = random.randint(1, 100)\n",
        "while True:\n",
        "  palpite = int(input(\"Digite seu palpite: \"))\n",
        "  if palpite == num:\n",
        "    print(\"Você acertou\")\n",
        "    break\n",
        "  elif palpite > num:\n",
        "    print(\"Seu palpite é muito alto\")\n",
        "  else:\n",
        "    print(\"Seu palpite é muito baixo\")\n"
      ],
      "metadata": {
        "id": "4kz8g_Z5qGB1",
        "colab": {
          "base_uri": "https://localhost:8080/"
        },
        "outputId": "1b302d51-d71a-4b07-8676-9cebdfa4ffe0"
      },
      "execution_count": null,
      "outputs": [
        {
          "output_type": "stream",
          "name": "stdout",
          "text": [
            "Digite seu palpite: 50\n",
            "Seu palpite é muito alto\n",
            "Digite seu palpite: 14\n",
            "Você acertou\n"
          ]
        }
      ]
    },
    {
      "cell_type": "markdown",
      "source": [
        "DESAFIO 4\n",
        "\n",
        "Crie um programa que permita ao usuário gerenciar suas tarefas diárias. O programa deve oferecer as seguintes funcionalidades:\n",
        "\n",
        "Adicionar uma nova tarefa;\n",
        "\n",
        "Visualizar todas as tarefas;\n",
        "\n",
        "Remover uma tarefa;\n",
        "\n",
        "Sair do programa.\n",
        "\n",
        "(Você pode implementar essas funcionalidades usando listas para armazenar as tarefas e estruturas de controle como loops e condicionais para interagir com o usuário.)"
      ],
      "metadata": {
        "id": "qk4Gw-GAqFjY"
      }
    },
    {
      "cell_type": "code",
      "source": [
        "#Execute seu código aqui\n",
        "#4\n",
        "from IPython.display import clear_output\n",
        "\n",
        "tarefas = []\n",
        "\n",
        "while True:\n",
        "  #clear_output(wait=True)\n",
        "\n",
        "  print(\"1 - Adicionar uma nova tarefa\")\n",
        "  print(\"2 - Visualizar todas as tarefas\")\n",
        "  print(\"3 - Remover uma tarefa\")\n",
        "  print(\"4 - Sair do programa\")\n",
        "\n",
        "  opcao = input(\"Digite a opção desejada: \")\n",
        "\n",
        "  if opcao == \"1\":\n",
        "    tarefas.append(input(\"Digite a tarefa que deseja adicionar: \"))\n",
        "  elif opcao == \"2\":\n",
        "    for tarefa in tarefas:\n",
        "      print(tarefa)\n",
        "  elif opcao == \"3\":\n",
        "    tarefas.remove(input(\"Digite a tarefa que deseja remover: \"))\n",
        "  elif opcao == \"4\":\n",
        "    print(\"Encerrando programa\")\n",
        "    break\n",
        "  else:\n",
        "    print(\"Opção inválida\")"
      ],
      "metadata": {
        "id": "FOtsBTYecOUJ",
        "colab": {
          "base_uri": "https://localhost:8080/"
        },
        "outputId": "eb3c6375-6597-4627-fcf0-170018fe538b"
      },
      "execution_count": null,
      "outputs": [
        {
          "output_type": "stream",
          "name": "stdout",
          "text": [
            "1 - Adicionar uma nova tarefa\n",
            "2 - Visualizar todas as tarefas\n",
            "3 - Remover uma tarefa\n",
            "4 - Sair do programa\n",
            "Digite a opção desejada: 1\n",
            "Digite a tarefa que deseja adicionar: iobwo\n",
            "1 - Adicionar uma nova tarefa\n",
            "2 - Visualizar todas as tarefas\n",
            "3 - Remover uma tarefa\n",
            "4 - Sair do programa\n",
            "Digite a opção desejada: 1\n",
            "Digite a tarefa que deseja adicionar: inovnw\n",
            "1 - Adicionar uma nova tarefa\n",
            "2 - Visualizar todas as tarefas\n",
            "3 - Remover uma tarefa\n",
            "4 - Sair do programa\n",
            "Digite a opção desejada: 1\n",
            "Digite a tarefa que deseja adicionar: fjivnfov\n",
            "1 - Adicionar uma nova tarefa\n",
            "2 - Visualizar todas as tarefas\n",
            "3 - Remover uma tarefa\n",
            "4 - Sair do programa\n",
            "Digite a opção desejada: 1\n",
            "Digite a tarefa que deseja adicionar: fcdvwv\n",
            "1 - Adicionar uma nova tarefa\n",
            "2 - Visualizar todas as tarefas\n",
            "3 - Remover uma tarefa\n",
            "4 - Sair do programa\n",
            "Digite a opção desejada: 4\n",
            "Encerrando programa\n"
          ]
        }
      ]
    },
    {
      "cell_type": "markdown",
      "source": [
        "DESAFIO 5\n",
        "\n",
        "Escreva um programa em Python que funcione como uma calculadora simples. Ele deve pedir ao usuário para inserir dois números e, em seguida, solicitar a operação que deseja realizar (adição, subtração, multiplicação ou divisão)."
      ],
      "metadata": {
        "id": "cpVCv8m5QNm9"
      }
    },
    {
      "cell_type": "code",
      "source": [
        "#Execute seu código aqui\n",
        "print(\"Calculadora\")\n",
        "num1 = float(input(\"Digite o primeiro número: \"))\n",
        "num2 = float(input(\"Digite o segundo número: \"))\n",
        "\n",
        "print(\"Selecione a operação desejada: \")\n",
        "print(\"1 - Adição\")\n",
        "print(\"2 - Subtração\")\n",
        "print(\"3 - Multiplicação\")\n",
        "print(\"4 - Divisão\")\n",
        "\n",
        "operacao = input(\"Digite a opção desejada: \")\n",
        "\n",
        "if operacao == \"1\":\n",
        "  print(f\"A soma de {num1} e {num2} é {num1 + num2}\")\n",
        "elif operacao == \"2\":\n",
        "  print(f\"A subtração de {num1} e {num2} é {num1 - num2}\")\n",
        "elif operacao == \"3\":\n",
        "  print(f\"A multiplicação de {num1} e {num2} é {num1 * num2}\")\n",
        "elif operacao == \"4\":\n",
        "  print(f\"A divisão de {num1} e {num2} é {num1 / num2}\")\n",
        "else:\n",
        "  print(\"Opção inválida\")"
      ],
      "metadata": {
        "id": "rGHbvDFVcGzy",
        "colab": {
          "base_uri": "https://localhost:8080/"
        },
        "outputId": "7363fa77-bbd2-47c9-ca86-b2f454d2cca6"
      },
      "execution_count": null,
      "outputs": [
        {
          "output_type": "stream",
          "name": "stdout",
          "text": [
            "Calculadora\n",
            "Digite o primeiro número: 0\n",
            "Digite o segundo número: 0\n",
            "Selecione a operação desejada: \n",
            "1 - Adição\n",
            "2 - Subtração\n",
            "3 - Multiplicação\n",
            "4 - Divisão\n",
            "Digite a opção desejada: 0\n",
            "Opção inválida\n"
          ]
        }
      ]
    }
  ]
}